{
 "cells": [
  {
   "cell_type": "markdown",
   "metadata": {
    "id": "xrvOD02o3HvH"
   },
   "source": [
    "# Домашнее задание 6: классификация текстов"
   ]
  },
  {
   "cell_type": "markdown",
   "metadata": {
    "id": "sxwj_Iie3HvJ"
   },
   "source": [
    "В этом домашнем задании вам предстоит построить классификатор текстов!\n",
    "\n",
    "Данные мы будем использовать из Kaggle соревнования: https://www.kaggle.com/competitions/nlp-getting-started/data \n",
    "\n",
    "\n",
    "Оттуда надо скачать файл train.csv. На обучающую и тестовую выборки его поделим кодом ниже, менять его не надо!"
   ]
  },
  {
   "cell_type": "markdown",
   "metadata": {
    "id": "qQVgqLg93HvJ"
   },
   "source": [
    "Мы будем работать с датасетом постов из твиттера. Нам предстоит решать задачу бинарной классификации - определять содержатся ли в твитте информация о настоящей катастрофе/инциденте или нет."
   ]
  },
  {
   "cell_type": "code",
   "execution_count": 1,
   "metadata": {
    "id": "TcjEYh7R3HvK"
   },
   "outputs": [],
   "source": [
    "import numpy as np\n",
    "import pandas as pd\n",
    "from typing import  List\n",
    "import matplotlib.pyplot as plt\n",
    "import seaborn as sns\n",
    "from string import punctuation"
   ]
  },
  {
   "cell_type": "code",
   "execution_count": 2,
   "metadata": {
    "id": "mjwffGiB3HvK"
   },
   "outputs": [],
   "source": [
    "data = pd.read_csv('train.csv')"
   ]
  },
  {
   "cell_type": "code",
   "execution_count": 3,
   "metadata": {
    "colab": {
     "base_uri": "https://localhost:8080/",
     "height": 206
    },
    "id": "v0uUoFTN3HvK",
    "outputId": "0d37d677-a00d-449c-8f86-6f85dce2ef4a"
   },
   "outputs": [
    {
     "data": {
      "text/html": [
       "<div>\n",
       "<style scoped>\n",
       "    .dataframe tbody tr th:only-of-type {\n",
       "        vertical-align: middle;\n",
       "    }\n",
       "\n",
       "    .dataframe tbody tr th {\n",
       "        vertical-align: top;\n",
       "    }\n",
       "\n",
       "    .dataframe thead th {\n",
       "        text-align: right;\n",
       "    }\n",
       "</style>\n",
       "<table border=\"1\" class=\"dataframe\">\n",
       "  <thead>\n",
       "    <tr style=\"text-align: right;\">\n",
       "      <th></th>\n",
       "      <th>id</th>\n",
       "      <th>keyword</th>\n",
       "      <th>location</th>\n",
       "      <th>text</th>\n",
       "      <th>target</th>\n",
       "    </tr>\n",
       "  </thead>\n",
       "  <tbody>\n",
       "    <tr>\n",
       "      <th>0</th>\n",
       "      <td>1</td>\n",
       "      <td>NaN</td>\n",
       "      <td>NaN</td>\n",
       "      <td>Our Deeds are the Reason of this #earthquake M...</td>\n",
       "      <td>1</td>\n",
       "    </tr>\n",
       "    <tr>\n",
       "      <th>1</th>\n",
       "      <td>4</td>\n",
       "      <td>NaN</td>\n",
       "      <td>NaN</td>\n",
       "      <td>Forest fire near La Ronge Sask. Canada</td>\n",
       "      <td>1</td>\n",
       "    </tr>\n",
       "    <tr>\n",
       "      <th>2</th>\n",
       "      <td>5</td>\n",
       "      <td>NaN</td>\n",
       "      <td>NaN</td>\n",
       "      <td>All residents asked to 'shelter in place' are ...</td>\n",
       "      <td>1</td>\n",
       "    </tr>\n",
       "    <tr>\n",
       "      <th>3</th>\n",
       "      <td>6</td>\n",
       "      <td>NaN</td>\n",
       "      <td>NaN</td>\n",
       "      <td>13,000 people receive #wildfires evacuation or...</td>\n",
       "      <td>1</td>\n",
       "    </tr>\n",
       "    <tr>\n",
       "      <th>4</th>\n",
       "      <td>7</td>\n",
       "      <td>NaN</td>\n",
       "      <td>NaN</td>\n",
       "      <td>Just got sent this photo from Ruby #Alaska as ...</td>\n",
       "      <td>1</td>\n",
       "    </tr>\n",
       "  </tbody>\n",
       "</table>\n",
       "</div>"
      ],
      "text/plain": [
       "   id keyword location                                               text  \\\n",
       "0   1     NaN      NaN  Our Deeds are the Reason of this #earthquake M...   \n",
       "1   4     NaN      NaN             Forest fire near La Ronge Sask. Canada   \n",
       "2   5     NaN      NaN  All residents asked to 'shelter in place' are ...   \n",
       "3   6     NaN      NaN  13,000 people receive #wildfires evacuation or...   \n",
       "4   7     NaN      NaN  Just got sent this photo from Ruby #Alaska as ...   \n",
       "\n",
       "   target  \n",
       "0       1  \n",
       "1       1  \n",
       "2       1  \n",
       "3       1  \n",
       "4       1  "
      ]
     },
     "execution_count": 3,
     "metadata": {},
     "output_type": "execute_result"
    }
   ],
   "source": [
    "data.head()"
   ]
  },
  {
   "cell_type": "code",
   "execution_count": 4,
   "metadata": {
    "id": "f49NdWY23HvL"
   },
   "outputs": [],
   "source": [
    "from sklearn.model_selection import train_test_split\n",
    "\n",
    "train, test = train_test_split(data, test_size=0.3, random_state=42)"
   ]
  },
  {
   "cell_type": "markdown",
   "metadata": {
    "id": "YlLemInT3HvL"
   },
   "source": [
    "## Задание 1 (0.5 балла)\n",
    "\n",
    "Выведете на экран информацию о пропусках в данных. Если пропуски присутствуют заполните их пустой строкой."
   ]
  },
  {
   "cell_type": "code",
   "execution_count": 5,
   "metadata": {
    "id": "96aJxmkV4105"
   },
   "outputs": [
    {
     "data": {
      "text/plain": [
       "id             0\n",
       "keyword       44\n",
       "location    1760\n",
       "text           0\n",
       "target         0\n",
       "dtype: int64"
      ]
     },
     "execution_count": 5,
     "metadata": {},
     "output_type": "execute_result"
    }
   ],
   "source": [
    "train.isnull().sum()"
   ]
  },
  {
   "cell_type": "code",
   "execution_count": 6,
   "metadata": {},
   "outputs": [
    {
     "data": {
      "text/plain": [
       "id            0\n",
       "keyword      17\n",
       "location    773\n",
       "text          0\n",
       "target        0\n",
       "dtype: int64"
      ]
     },
     "execution_count": 6,
     "metadata": {},
     "output_type": "execute_result"
    }
   ],
   "source": [
    "test.isnull().sum()"
   ]
  },
  {
   "cell_type": "code",
   "execution_count": 7,
   "metadata": {},
   "outputs": [],
   "source": [
    "train.fillna('', inplace=True)\n",
    "test.fillna('', inplace=True)"
   ]
  },
  {
   "cell_type": "code",
   "execution_count": 8,
   "metadata": {},
   "outputs": [
    {
     "data": {
      "text/plain": [
       "id          0\n",
       "keyword     0\n",
       "location    0\n",
       "text        0\n",
       "target      0\n",
       "dtype: int64"
      ]
     },
     "execution_count": 8,
     "metadata": {},
     "output_type": "execute_result"
    }
   ],
   "source": [
    "train.isnull().sum()"
   ]
  },
  {
   "cell_type": "code",
   "execution_count": 9,
   "metadata": {},
   "outputs": [
    {
     "data": {
      "text/plain": [
       "id          0\n",
       "keyword     0\n",
       "location    0\n",
       "text        0\n",
       "target      0\n",
       "dtype: int64"
      ]
     },
     "execution_count": 9,
     "metadata": {},
     "output_type": "execute_result"
    }
   ],
   "source": [
    "test.isnull().sum()"
   ]
  },
  {
   "cell_type": "markdown",
   "metadata": {
    "id": "A8CPBUal3HvL"
   },
   "source": [
    "## Задание 2 (1 балл)\n",
    "Давайте немного посмотрим на наши данные. Визуализируйте (где явно просят) или выведете информацию о следующем:\n",
    "\n",
    "1. Какое распределение классов в обучающей выборке?\n"
   ]
  },
  {
   "cell_type": "code",
   "execution_count": 10,
   "metadata": {
    "id": "WvJ_EU9o5BGm"
   },
   "outputs": [
    {
     "data": {
      "text/plain": [
       "(3024, 2305)"
      ]
     },
     "execution_count": 10,
     "metadata": {},
     "output_type": "execute_result"
    }
   ],
   "source": [
    "train[train['target'] == 0].shape[0], train[train['target'] == 1].shape[0]"
   ]
  },
  {
   "cell_type": "markdown",
   "metadata": {
    "id": "f08KScbP5q2y"
   },
   "source": [
    "2. Посмотрите на колонку \"keyword\" - возьмите 10 наиболее встречающихся значений, постройте ступенчатую диаграмму распределения классов в зависимости от значения keyword, сделайте выводы."
   ]
  },
  {
   "cell_type": "code",
   "execution_count": 11,
   "metadata": {
    "id": "WSCb0htu5w_Y"
   },
   "outputs": [],
   "source": [
    "popular_keywords = train['keyword'].value_counts()[1:11].index.tolist()"
   ]
  },
  {
   "cell_type": "code",
   "execution_count": 12,
   "metadata": {},
   "outputs": [
    {
     "data": {
      "image/png": "[encoded data removed]",
      "text/plain": [
       "<Figure size 1500x800 with 1 Axes>"
      ]
     },
     "metadata": {},
     "output_type": "display_data"
    }
   ],
   "source": [
    "plt.figure(figsize=(15, 8))\n",
    "sns.histplot(data[data['keyword'].isin(popular_keywords)], x='keyword', hue=\"target\")\n",
    "plt.show()"
   ]
  },
  {
   "cell_type": "markdown",
   "metadata": {
    "id": "c006nNBP3HvM"
   },
   "source": [
    "## Задание 3 (0.5 балла) \n",
    "\n",
    "В этом задании предлагается объединить все три текстовых столбца в один (просто сконкатенировать cтроки) и убрать столбец с индексом."
   ]
  },
  {
   "cell_type": "code",
   "execution_count": 13,
   "metadata": {
    "colab": {
     "base_uri": "https://localhost:8080/",
     "height": 143
    },
    "id": "GdF9gFmL-c0r",
    "outputId": "ebe008b7-4d0e-4bc2-89f3-60a575c1b1fd"
   },
   "outputs": [
    {
     "data": {
      "text/html": [
       "<div>\n",
       "<style scoped>\n",
       "    .dataframe tbody tr th:only-of-type {\n",
       "        vertical-align: middle;\n",
       "    }\n",
       "\n",
       "    .dataframe tbody tr th {\n",
       "        vertical-align: top;\n",
       "    }\n",
       "\n",
       "    .dataframe thead th {\n",
       "        text-align: right;\n",
       "    }\n",
       "</style>\n",
       "<table border=\"1\" class=\"dataframe\">\n",
       "  <thead>\n",
       "    <tr style=\"text-align: right;\">\n",
       "      <th></th>\n",
       "      <th>id</th>\n",
       "      <th>keyword</th>\n",
       "      <th>location</th>\n",
       "      <th>text</th>\n",
       "      <th>target</th>\n",
       "    </tr>\n",
       "  </thead>\n",
       "  <tbody>\n",
       "    <tr>\n",
       "      <th>6590</th>\n",
       "      <td>9436</td>\n",
       "      <td>survivors</td>\n",
       "      <td>Marietta, GA</td>\n",
       "      <td>Stemming from my #Cubs talk- the team rosters ...</td>\n",
       "      <td>1</td>\n",
       "    </tr>\n",
       "    <tr>\n",
       "      <th>7122</th>\n",
       "      <td>10203</td>\n",
       "      <td>violent%20storm</td>\n",
       "      <td></td>\n",
       "      <td>If you were the NWS wth a rotating storm w/ a ...</td>\n",
       "      <td>1</td>\n",
       "    </tr>\n",
       "    <tr>\n",
       "      <th>2769</th>\n",
       "      <td>3980</td>\n",
       "      <td>devastation</td>\n",
       "      <td>Atlanta g.a.</td>\n",
       "      <td>http://t.co/Gxgm1T3W0J From Devastation to Ela...</td>\n",
       "      <td>0</td>\n",
       "    </tr>\n",
       "  </tbody>\n",
       "</table>\n",
       "</div>"
      ],
      "text/plain": [
       "         id          keyword      location  \\\n",
       "6590   9436        survivors  Marietta, GA   \n",
       "7122  10203  violent%20storm                 \n",
       "2769   3980      devastation  Atlanta g.a.   \n",
       "\n",
       "                                                   text  target  \n",
       "6590  Stemming from my #Cubs talk- the team rosters ...       1  \n",
       "7122  If you were the NWS wth a rotating storm w/ a ...       1  \n",
       "2769  http://t.co/Gxgm1T3W0J From Devastation to Ela...       0  "
      ]
     },
     "execution_count": 13,
     "metadata": {},
     "output_type": "execute_result"
    }
   ],
   "source": [
    "train.loc[[6590, 7122, 2769]]"
   ]
  },
  {
   "cell_type": "code",
   "execution_count": 14,
   "metadata": {
    "id": "lwwJKX_l-eoh"
   },
   "outputs": [],
   "source": [
    "train_new = train.copy()\n",
    "train_new[\"text\"] = train_new[[\"keyword\", \"location\", \"text\"]].apply(\" \".join, axis=1)\n",
    "del train_new['id']\n",
    "del train_new['keyword']\n",
    "del train_new['location']"
   ]
  },
  {
   "cell_type": "code",
   "execution_count": 15,
   "metadata": {
    "colab": {
     "base_uri": "https://localhost:8080/",
     "height": 143
    },
    "id": "jk7P70XX_CpT",
    "outputId": "5cf01b29-8ada-46d7-f7ee-74e7aed37996"
   },
   "outputs": [
    {
     "data": {
      "text/html": [
       "<div>\n",
       "<style scoped>\n",
       "    .dataframe tbody tr th:only-of-type {\n",
       "        vertical-align: middle;\n",
       "    }\n",
       "\n",
       "    .dataframe tbody tr th {\n",
       "        vertical-align: top;\n",
       "    }\n",
       "\n",
       "    .dataframe thead th {\n",
       "        text-align: right;\n",
       "    }\n",
       "</style>\n",
       "<table border=\"1\" class=\"dataframe\">\n",
       "  <thead>\n",
       "    <tr style=\"text-align: right;\">\n",
       "      <th></th>\n",
       "      <th>text</th>\n",
       "      <th>target</th>\n",
       "    </tr>\n",
       "  </thead>\n",
       "  <tbody>\n",
       "    <tr>\n",
       "      <th>6590</th>\n",
       "      <td>survivors Marietta, GA Stemming from my #Cubs ...</td>\n",
       "      <td>1</td>\n",
       "    </tr>\n",
       "    <tr>\n",
       "      <th>7122</th>\n",
       "      <td>violent%20storm  If you were the NWS wth a rot...</td>\n",
       "      <td>1</td>\n",
       "    </tr>\n",
       "    <tr>\n",
       "      <th>2769</th>\n",
       "      <td>devastation Atlanta g.a. http://t.co/Gxgm1T3W0...</td>\n",
       "      <td>0</td>\n",
       "    </tr>\n",
       "  </tbody>\n",
       "</table>\n",
       "</div>"
      ],
      "text/plain": [
       "                                                   text  target\n",
       "6590  survivors Marietta, GA Stemming from my #Cubs ...       1\n",
       "7122  violent%20storm  If you were the NWS wth a rot...       1\n",
       "2769  devastation Atlanta g.a. http://t.co/Gxgm1T3W0...       0"
      ]
     },
     "execution_count": 15,
     "metadata": {},
     "output_type": "execute_result"
    }
   ],
   "source": [
    "train_new.loc[[6590, 7122, 2769]]"
   ]
  },
  {
   "cell_type": "code",
   "execution_count": 16,
   "metadata": {},
   "outputs": [],
   "source": [
    "test_new = test.copy()\n",
    "test_new[\"text\"] = test_new[[\"keyword\", \"location\", \"text\"]].apply(\" \".join, axis=1)\n",
    "del test_new['id']\n",
    "del test_new['keyword']\n",
    "del test_new['location']"
   ]
  },
  {
   "cell_type": "markdown",
   "metadata": {
    "id": "ViXdGTxP3HvM"
   },
   "source": [
    "## Задание 4 (0.5 балла)\n",
    "\n",
    "Далее мы будем пока работать только с train частью.\n",
    "\n",
    "1. Предобработайте данные (train часть) с помощью CountVectorizer.\n",
    "2. Какого размера получилась матрица?\n"
   ]
  },
  {
   "cell_type": "code",
   "execution_count": 17,
   "metadata": {
    "id": "oB1MTqUVAbPA"
   },
   "outputs": [],
   "source": [
    "from sklearn.feature_extraction.text import CountVectorizer\n",
    "\n",
    "cnt_vec = CountVectorizer()\n",
    "X = cnt_vec.fit_transform(train_new.text)"
   ]
  },
  {
   "cell_type": "code",
   "execution_count": 18,
   "metadata": {},
   "outputs": [
    {
     "data": {
      "text/plain": [
       "(5329, 18455)"
      ]
     },
     "execution_count": 18,
     "metadata": {},
     "output_type": "execute_result"
    }
   ],
   "source": [
    "pd.DataFrame(X.toarray(), columns=cnt_vec.get_feature_names_out()).shape"
   ]
  },
  {
   "cell_type": "markdown",
   "metadata": {
    "id": "A4waLlnC3HvM"
   },
   "source": [
    "## Задание 5 (1 балл)\n",
    "\n",
    "В предыдущем пункте у вас должна была получиться достаточно большая матрица.\n",
    "Если вы взгляните на текст, то увидете, что там есть множество специальных символов, ссылок и прочего мусора.\n",
    "\n",
    "Давайте также посмотрим на словарь, который получился в результате построения CountVectorizer, его можно найти в поле vocabulary_ инстанса этого класса. Давайте напишем функцию, которая печает ответы на следующие вопросы:\n",
    "\n",
    "1. Найдите в этом словаре все слова, которые содержат цифры. Сколько таких слов нашлось?\n",
    "\n",
    "2. Найдите все слова, которые содержат символы пунктуации. Сколько таких слов нашлось? \n",
    "\n",
    "3. Сколько хэштегов (токен начинается на #) и упоминаний (токен начинается на @) осталось в словаре?"
   ]
  },
  {
   "cell_type": "code",
   "execution_count": 19,
   "metadata": {
    "id": "7PhQSWqcHhU8"
   },
   "outputs": [],
   "source": [
    "def contains_digit(s: str) -> bool:\n",
    "    # Проверка, содержит ли слово цифры\n",
    "    return any(char.isdigit() for char in s)\n",
    "\n",
    "def contains_punctuation(s: str) -> bool:\n",
    "    # Проверка, содержит ли слово пунктуацию\n",
    "    import string\n",
    "    return any(char in string.punctuation for char in s)\n",
    "\n",
    "def is_hashtag(s: str) -> bool:\n",
    "    # Проверка, является ли слово хэштегом\n",
    "    return s[0] == '#'\n",
    "\n",
    "def is_mention(s: str) -> bool:\n",
    "    # Проверка, является ли слово упоминанием\n",
    "    return s[0] == '@'\n",
    "\n",
    "def investigate_vocabulary(vocabulary):\n",
    "    dg, pnct, hstg, mntn = 0, 0, 0, 0\n",
    "    for s in vocabulary:\n",
    "        if contains_digit(s):\n",
    "            dg += 1\n",
    "        if contains_punctuation(s):\n",
    "            pnct += 1\n",
    "        if is_hashtag(s):\n",
    "            hstg +=1\n",
    "        if is_mention(s):\n",
    "            mntn += 1\n",
    "    print('With digit:      ', dg\n",
    "          )\n",
    "    print('With punctuation:', pnct\n",
    "          )\n",
    "    print('Hashtags:        ', hstg\n",
    "          )\n",
    "    print('Mentions:        ', mntn\n",
    "          )\n",
    "\n",
    "\n"
   ]
  },
  {
   "cell_type": "code",
   "execution_count": 20,
   "metadata": {},
   "outputs": [
    {
     "name": "stdout",
     "output_type": "stream",
     "text": [
      "With digit:       2\n",
      "With punctuation: 7\n",
      "Hashtags:         1\n",
      "Mentions:         3\n"
     ]
    }
   ],
   "source": [
    "dummy_vocab = {'th1nk' : 0,\n",
    "               'think333' : 1,\n",
    "               'think.' : 2,\n",
    "               'th!nk' : 3,\n",
    "               'th...nk' : 4,\n",
    "               '#think' : 5,\n",
    "               '@think' : 6,\n",
    "               '@thinking':7,\n",
    "               '@nothink' : 8,\n",
    "               'think' : 9}\n",
    "investigate_vocabulary(dummy_vocab)"
   ]
  },
  {
   "cell_type": "code",
   "execution_count": 21,
   "metadata": {
    "id": "VpW8R_SuKR_l"
   },
   "outputs": [
    {
     "name": "stdout",
     "output_type": "stream",
     "text": [
      "With digit:       3812\n",
      "With punctuation: 315\n",
      "Hashtags:         0\n",
      "Mentions:         0\n"
     ]
    }
   ],
   "source": [
    "investigate_vocabulary(cnt_vec.vocabulary_)"
   ]
  },
  {
   "cell_type": "markdown",
   "metadata": {
    "id": "bfNLaxX93HvM"
   },
   "source": [
    "## Задание 6 (0.5 балла)\n",
    "\n",
    "Вспомним, что на семинаре по текстам мы узнали, что в nltk есть специальный токенизатор для текстов - TweetTokenizer. Попробуем применить CountVectorizer с этим токенизатором. Ответьте на все вопросы из предыдущего пункта для TweetTokenizer и сравните результаты."
   ]
  },
  {
   "cell_type": "code",
   "execution_count": 22,
   "metadata": {
    "id": "xnlRoXUS3HvM"
   },
   "outputs": [],
   "source": [
    "from nltk.tokenize import TweetTokenizer\n",
    "# Чтобы узнать, какие параметры есть у этого токенайзера - используйте help(TweetTokenizer)\n",
    "# Для того, чтобы передать токенайзер в CountVectorizer используйте параметр tokenizer"
   ]
  },
  {
   "cell_type": "code",
   "execution_count": 23,
   "metadata": {
    "id": "8lPMIf6UKccT"
   },
   "outputs": [],
   "source": [
    "tw = TweetTokenizer()\n",
    "texts_tokenized = [\n",
    "    \" \".join([w for w in tw.tokenize(t)]) for t in train_new.text\n",
    "]"
   ]
  },
  {
   "cell_type": "code",
   "execution_count": 24,
   "metadata": {},
   "outputs": [],
   "source": [
    "cnt_vec2 = CountVectorizer()\n",
    "X_tok = cnt_vec2.fit_transform(texts_tokenized)"
   ]
  },
  {
   "cell_type": "code",
   "execution_count": 25,
   "metadata": {
    "id": "7oR5kNKVLLpm"
   },
   "outputs": [
    {
     "name": "stdout",
     "output_type": "stream",
     "text": [
      "With digit:       3759\n",
      "With punctuation: 311\n",
      "Hashtags:         0\n",
      "Mentions:         0\n"
     ]
    }
   ],
   "source": [
    "investigate_vocabulary(cnt_vec2.vocabulary_)"
   ]
  },
  {
   "cell_type": "markdown",
   "metadata": {
    "id": "Wetr80-ILULV"
   },
   "source": [
    "**Сравнение:** В результате применения токенизатора количество слов с мусором уменьшилось, но довольно незначительно "
   ]
  },
  {
   "cell_type": "markdown",
   "metadata": {
    "id": "6_k_-i1x3HvM"
   },
   "source": [
    "## Задание 7 (2 балла)\n",
    "\n",
    "В scikit-learn мы можем оценивать процесс подсчета матрицы через CountVectorizer. У CountVectorizer, как и у других наследников \\_VectorizerMixin, есть аргумент tokenizer и preprocessor. preprocessor применится в самом начале к каждой строке вашего датасета, tokenizer же должен принять строку и вернуть токены.\n",
    "Давайте напишем кастомный токенайзер, которые сделает все, что нам нужно: \n",
    "\n",
    "0. Приведет все буквы к нижнему регистру\n",
    "1. Разобьет текст на токены с помощью TweetTokenizer из пакета nltk\n",
    "2. Удалит все токены содержащие не латинские буквы, кроме смайликов (будем считать ими токены содержащие только пунктуацию и, как минимум, одну скобочку) и хэштегов, которые после начальной # содержат только латинские буквы.\n",
    "3. Удалит все токены, которые перечислены в nltk.corpus.stopwords.words('english')\n",
    "4. Проведет стемминг с помощью SnowballStemmer\n",
    "\n"
   ]
  },
  {
   "cell_type": "code",
   "execution_count": 26,
   "metadata": {
    "id": "qhwmi7DEMD25"
   },
   "outputs": [],
   "source": [
    "def contains_only_latin_letters(s: str) -> bool:\n",
    "    # Проверка, содержит ли слово только латинские буквы\n",
    "    return s.isalpha()\n",
    "\n",
    "def is_emoji(s: str) -> bool:\n",
    "    # Проверка, является ли слово смайликом\n",
    "    import string\n",
    "    return all(char in string.punctuation for char in s) and (')' in s or '(' in s)\n",
    "\n",
    "def is_hashtag(s: str) -> bool:\n",
    "    # Проверка, является ли слово хэштегом\n",
    "    return s[0] == '#'\n",
    "\n",
    "def custom_tokenizer(s: str) -> List[str]:    \n",
    "    # Кастомный токенайзер\n",
    "    from nltk.corpus import stopwords\n",
    "    from nltk.stem.snowball import SnowballStemmer\n",
    "    s = s.lower()\n",
    "    s_tokenized = tw.tokenize(s)\n",
    "    text_tokenized = []\n",
    "    for token in s_tokenized:\n",
    "        if token in stopwords.words(\"english\"):\n",
    "            continue\n",
    "        if contains_only_latin_letters(token) or (is_hashtag(token) and contains_only_latin_letters(token[1:])) or is_emoji(token):\n",
    "            text_tokenized.append(token)\n",
    "    stemmer = SnowballStemmer(\"english\")\n",
    "    text_stemmed = [stemmer.stem(w) for w in text_tokenized]\n",
    "    return text_stemmed"
   ]
  },
  {
   "cell_type": "code",
   "execution_count": 27,
   "metadata": {},
   "outputs": [
    {
     "data": {
      "text/plain": [
       "['love', 'paint', ':-)', '#art']"
      ]
     },
     "execution_count": 27,
     "metadata": {},
     "output_type": "execute_result"
    }
   ],
   "source": [
    "custom_tokenizer('She LOVES painting :-) #art')"
   ]
  },
  {
   "cell_type": "markdown",
   "metadata": {
    "id": "2S_-ThAf5It4"
   },
   "source": [
    "Продемонстрируйте работу вашей функции на первых десяти текстах в обучающей выборке."
   ]
  },
  {
   "cell_type": "code",
   "execution_count": 28,
   "metadata": {},
   "outputs": [
    {
     "name": "stdout",
     "output_type": "stream",
     "text": [
      "['bridg', 'ash', 'australia', 'ûªs', 'collaps', 'trent', 'bridg', 'among', 'worst', 'histori', 'england', 'bundl', 'australia']\n",
      "['hail', 'carol', 'stream', 'illinoi', 'great', 'michigan', 'techniqu', 'camp', 'thank', '#goblu', '#wrestleon']\n",
      "['polic', 'houston', 'cnn', 'tennesse', 'movi', 'theater', 'shoot', 'suspect', 'kill', 'polic']\n",
      "['riot', 'still', 'riot', 'coupl', 'hour', 'left', 'class']\n",
      "['wound', 'lake', 'highland', 'crack', 'path', 'wipe', 'morn', 'beach', 'run', 'surfac', 'wound', 'left', 'elbow', 'right', 'knee']\n",
      "['airplan', 'somewher', 'expert', 'franc', 'begin', 'examin', 'airplan', 'debri', 'found', 'reunion', 'island', 'french', 'air', 'accid', 'expert', '#mlb']\n",
      "['bloodi', 'isol', 'citi', 'world', 'perth', 'came', 'kill', 'indian', 'fun', 'video', 'smirk', 'remorseless', 'pakistani', 'killer', 'show', 'boast']\n",
      "['burn', 'except', 'idk', 'realli', 'burn']\n",
      "['destroy', '(', 'ask', ')', 'destroy', 'hous']\n",
      "['wound', 'maracay', 'nirgua', 'venezuela', 'polic', 'offic', 'wound', 'suspect', 'dead', 'exchang', 'shot']\n"
     ]
    }
   ],
   "source": [
    "for text in train_new.head(10).text.apply(custom_tokenizer):\n",
    "    print (text)"
   ]
  },
  {
   "cell_type": "markdown",
   "metadata": {
    "id": "a5lNZ4tb3HvN"
   },
   "source": [
    "## Задание 8 (1 балл)\n",
    "\n",
    "1. Примените CountVectorizer с реализованным выше токенизатором к обучающим и тестовым выборкам.\n"
   ]
  },
  {
   "cell_type": "code",
   "execution_count": 29,
   "metadata": {},
   "outputs": [],
   "source": [
    "x_train, y_train = train_new.text, train_new.target\n",
    "x_test, y_test = test_new.text, test_new.target"
   ]
  },
  {
   "cell_type": "code",
   "execution_count": 30,
   "metadata": {
    "id": "LDqixz7QQEbn"
   },
   "outputs": [],
   "source": [
    "vectorizer = CountVectorizer(tokenizer=custom_tokenizer)\n",
    "bow_train = vectorizer.fit_transform(x_train)\n",
    "bow_test = vectorizer.transform(x_test)"
   ]
  },
  {
   "cell_type": "markdown",
   "metadata": {
    "id": "YcetwuEi5ds9"
   },
   "source": [
    "2. Обучите LogisticRegression на полученных признаках.\n"
   ]
  },
  {
   "cell_type": "code",
   "execution_count": 31,
   "metadata": {
    "id": "BVj03QV2QbWl"
   },
   "outputs": [],
   "source": [
    "from sklearn.linear_model import LogisticRegression\n",
    "from sklearn.preprocessing import MaxAbsScaler\n",
    "from sklearn.metrics import classification_report\n",
    "\n",
    "scaler = MaxAbsScaler()\n",
    "bow_train = scaler.fit_transform(bow_train)\n",
    "bow_test = scaler.transform(bow_test)\n",
    "\n",
    "clf = LogisticRegression(max_iter=200, random_state=42)\n",
    "clf.fit(bow_train, y_train)\n",
    "pred = clf.predict(bow_test)"
   ]
  },
  {
   "cell_type": "markdown",
   "metadata": {
    "id": "6Ch6uz2P5e-T"
   },
   "source": [
    "3. Посчитайте метрику f1-score на тестовых данных."
   ]
  },
  {
   "cell_type": "code",
   "execution_count": 32,
   "metadata": {
    "colab": {
     "base_uri": "https://localhost:8080/"
    },
    "id": "osyC0pdT3cSD",
    "outputId": "cd957d5f-5118-4b7f-d7ba-01bb5a524086"
   },
   "outputs": [
    {
     "data": {
      "text/plain": [
       "0.7432057681641709"
      ]
     },
     "execution_count": 32,
     "metadata": {},
     "output_type": "execute_result"
    }
   ],
   "source": [
    "from sklearn.metrics import f1_score\n",
    "\n",
    "f1_score(y_test, pred)"
   ]
  },
  {
   "cell_type": "markdown",
   "metadata": {
    "id": "aFIEYOMZ3HvN"
   },
   "source": [
    "## Задание 9 (1 балл)\n",
    "\n",
    "1. Повторите 8 задание, но с tf-idf векторизатором. Как изменилось качество?\n"
   ]
  },
  {
   "cell_type": "code",
   "execution_count": 33,
   "metadata": {
    "colab": {
     "base_uri": "https://localhost:8080/"
    },
    "id": "cDqs61hl3ve3",
    "outputId": "fdd72125-dfde-4183-d614-3b0bc9002ada"
   },
   "outputs": [],
   "source": [
    "from sklearn.feature_extraction.text import TfidfVectorizer\n",
    "\n",
    "vectorizer = TfidfVectorizer(tokenizer=custom_tokenizer)\n",
    "vec_train = vectorizer.fit_transform(x_train)\n",
    "vec_test = vectorizer.transform(x_test)"
   ]
  },
  {
   "cell_type": "code",
   "execution_count": 34,
   "metadata": {},
   "outputs": [
    {
     "data": {
      "text/plain": [
       "(5329, 10591)"
      ]
     },
     "execution_count": 34,
     "metadata": {},
     "output_type": "execute_result"
    }
   ],
   "source": [
    "pd.DataFrame(vec_train.toarray(), columns=vectorizer.get_feature_names_out()).shape"
   ]
  },
  {
   "cell_type": "code",
   "execution_count": 35,
   "metadata": {},
   "outputs": [],
   "source": [
    "scaler = MaxAbsScaler()\n",
    "vec_train = scaler.fit_transform(vec_train)\n",
    "vec_test = scaler.transform(vec_test)\n",
    "\n",
    "clf = LogisticRegression(max_iter=200, random_state=42)\n",
    "clf.fit(vec_train, y_train)\n",
    "pred_tfidf = clf.predict(vec_test)"
   ]
  },
  {
   "cell_type": "code",
   "execution_count": 36,
   "metadata": {},
   "outputs": [
    {
     "data": {
      "text/plain": [
       "0.7422343324250681"
      ]
     },
     "execution_count": 36,
     "metadata": {},
     "output_type": "execute_result"
    }
   ],
   "source": [
    "f1_score(y_test, pred_tfidf)"
   ]
  },
  {
   "cell_type": "markdown",
   "metadata": {
    "id": "SXaNclTZSFjO"
   },
   "source": [
    "1. **Ответ:** Каечство практически не изменилось (но стало чуть меньше)"
   ]
  },
  {
   "cell_type": "markdown",
   "metadata": {
    "id": "CPtk0lCA5POY"
   },
   "source": [
    "2. Мы можем еще сильнее уменьшить размер нашей матрицы, если отбросим значения df близкие к единице. Скорее всего такие слова не несут много информации о категории, так как встречаются достаточно часто. Ограничьте максимальный df в параметрах TfIdfVectorizer, поставьте верхнюю границу равную 0.9. Как изменился размер матрицы, как изменилось качество?\n"
   ]
  },
  {
   "cell_type": "code",
   "execution_count": 37,
   "metadata": {
    "colab": {
     "base_uri": "https://localhost:8080/"
    },
    "id": "EU-MRXyRSHLm",
    "outputId": "6b5353a8-5f3b-4220-fcd4-64eecfe20054"
   },
   "outputs": [
    {
     "data": {
      "text/plain": [
       "(5329, 10591)"
      ]
     },
     "execution_count": 37,
     "metadata": {},
     "output_type": "execute_result"
    }
   ],
   "source": [
    "vectorizer1 = TfidfVectorizer(tokenizer=custom_tokenizer, max_df=0.9)\n",
    "vec_train = vectorizer1.fit_transform(x_train)\n",
    "vec_test = vectorizer1.transform(x_test)\n",
    "\n",
    "pd.DataFrame(vec_train.toarray(), columns=vectorizer1.get_feature_names_out()).shape"
   ]
  },
  {
   "cell_type": "code",
   "execution_count": 38,
   "metadata": {},
   "outputs": [],
   "source": [
    "scaler = MaxAbsScaler()\n",
    "vec_train = scaler.fit_transform(vec_train)\n",
    "vec_test = scaler.transform(vec_test)\n",
    "\n",
    "clf = LogisticRegression(max_iter=200, random_state=42)\n",
    "clf.fit(vec_train, y_train)\n",
    "pred_tfidf = clf.predict(vec_test)"
   ]
  },
  {
   "cell_type": "code",
   "execution_count": 39,
   "metadata": {
    "id": "z1TkO9HeSTJ9"
   },
   "outputs": [
    {
     "data": {
      "text/plain": [
       "0.7422343324250681"
      ]
     },
     "execution_count": 39,
     "metadata": {},
     "output_type": "execute_result"
    }
   ],
   "source": [
    "f1_score(y_test, pred_tfidf)"
   ]
  },
  {
   "cell_type": "markdown",
   "metadata": {
    "id": "4Two_O3rSVmh"
   },
   "source": [
    "2. **Ответ:** Ни размер матрицы, ни качество не изменились"
   ]
  },
  {
   "cell_type": "markdown",
   "metadata": {
    "id": "VhyjbI5X5QnG"
   },
   "source": [
    "3. Также мы можем уменьшить размер матрицы, удаляя слова со слишком маленьким df. Удалось ли добиться улучшения качества? "
   ]
  },
  {
   "cell_type": "code",
   "execution_count": 40,
   "metadata": {
    "colab": {
     "base_uri": "https://localhost:8080/"
    },
    "id": "9mNpIxv6SfKc",
    "outputId": "607ec22e-1fdb-4c29-bbc4-6447ed266349"
   },
   "outputs": [
    {
     "data": {
      "text/plain": [
       "(5329, 128)"
      ]
     },
     "execution_count": 40,
     "metadata": {},
     "output_type": "execute_result"
    }
   ],
   "source": [
    "vectorizer2 = TfidfVectorizer(tokenizer=custom_tokenizer, min_df=0.01)\n",
    "vec_train = vectorizer2.fit_transform(x_train)\n",
    "vec_test = vectorizer2.transform(x_test)\n",
    "\n",
    "pd.DataFrame(vec_train.toarray(), columns=vectorizer2.get_feature_names_out()).shape"
   ]
  },
  {
   "cell_type": "code",
   "execution_count": 41,
   "metadata": {},
   "outputs": [],
   "source": [
    "scaler = MaxAbsScaler()\n",
    "vec_train = scaler.fit_transform(vec_train)\n",
    "vec_test = scaler.transform(vec_test)\n",
    "\n",
    "clf = LogisticRegression(max_iter=200, random_state=42)\n",
    "clf.fit(vec_train, y_train)\n",
    "pred_tfidf = clf.predict(vec_test)"
   ]
  },
  {
   "cell_type": "code",
   "execution_count": 42,
   "metadata": {},
   "outputs": [
    {
     "data": {
      "text/plain": [
       "0.626951995373048"
      ]
     },
     "execution_count": 42,
     "metadata": {},
     "output_type": "execute_result"
    }
   ],
   "source": [
    "f1_score(y_test, pred_tfidf)"
   ]
  },
  {
   "cell_type": "markdown",
   "metadata": {
    "id": "imeD8skxSqdg"
   },
   "source": [
    "3. **Ответ:** При довольно малом минимальном df размер матрицы уменьшился, качество стало ниже"
   ]
  },
  {
   "cell_type": "markdown",
   "metadata": {
    "id": "1l1sx4nB3HvN"
   },
   "source": [
    "## Задание 10 (1 балл)\n",
    "\n",
    "Еще один популяпный трюк, который позволит уменьшить количество признаков называется hashing trick. Его суть в том, то мы случайно группируем признаки ииии  ..... складываем их! А потом удаляем исходные признаки. В итоге все наши признаки это просто суммы исходных. Звучит странно, но это отлично работает. Давайте проверим этот трюк в нашем сеттинге.\n",
    "Также при таком подходе вам не нужно хранить словарь token->index, что тоже иногда полезно.\n",
    "\n",
    "1. Повторите задание 8 с HashingVectorizer, укажите количество фичей равное 5000.\n"
   ]
  },
  {
   "cell_type": "code",
   "execution_count": 43,
   "metadata": {
    "colab": {
     "base_uri": "https://localhost:8080/"
    },
    "id": "8qSoW894RXxz",
    "outputId": "720818f4-f774-4273-bb10-918ecc72ef44"
   },
   "outputs": [
    {
     "name": "stdout",
     "output_type": "stream",
     "text": [
      "F1 score: *YOUR SCORE*\n"
     ]
    }
   ],
   "source": [
    "from sklearn.feature_extraction.text import HashingVectorizer\n",
    "\n",
    "# -- YOUR CODE HERE --\n",
    "print('F1 score: *YOUR SCORE*')"
   ]
  },
  {
   "cell_type": "markdown",
   "metadata": {
    "id": "1C3I4ceg6AG-"
   },
   "source": [
    "2. Какой из подходов показал самый высокий результат?"
   ]
  },
  {
   "cell_type": "markdown",
   "metadata": {
    "id": "_bIfyVlOS9Lu"
   },
   "source": [
    "2. **Ответ:** TODO"
   ]
  },
  {
   "cell_type": "markdown",
   "metadata": {
    "id": "zylJ6l0R3HvN"
   },
   "source": [
    "## Задание 11 (1 балл)\n",
    "\n",
    "В этом задании нужно добиться f1 меры хотя в 0.75 на тестовых данных."
   ]
  },
  {
   "cell_type": "code",
   "execution_count": 44,
   "metadata": {
    "id": "GSTVApFeS-OY"
   },
   "outputs": [],
   "source": [
    "# -- YOUR CODE HERE --"
   ]
  }
 ],
 "metadata": {
  "colab": {
   "collapsed_sections": [
    "YlLemInT3HvL",
    "A8CPBUal3HvL"
   ],
   "provenance": []
  },
  "kernelspec": {
   "display_name": "Python 3 (ipykernel)",
   "language": "python",
   "name": "python3"
  },
  "language_info": {
   "codemirror_mode": {
    "name": "ipython",
    "version": 3
   },
   "file_extension": ".py",
   "mimetype": "text/x-python",
   "name": "python",
   "nbconvert_exporter": "python",
   "pygments_lexer": "ipython3",
   "version": "3.9.13"
  }
 },
 "nbformat": 4,
 "nbformat_minor": 1
}
